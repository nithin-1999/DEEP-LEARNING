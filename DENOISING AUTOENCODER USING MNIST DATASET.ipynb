{
 "cells": [
  {
   "cell_type": "code",
   "execution_count": 1,
   "metadata": {
    "ExecuteTime": {
     "end_time": "2020-07-11T07:04:17.671237Z",
     "start_time": "2020-07-11T07:03:11.145441Z"
    }
   },
   "outputs": [
    {
     "name": "stderr",
     "output_type": "stream",
     "text": [
      "Using TensorFlow backend.\n"
     ]
    }
   ],
   "source": [
    "from keras.models import Model\n",
    "from keras.layers import Conv2D,Conv2DTranspose,Reshape,Flatten,Input,Dense\n",
    "from keras.datasets import mnist\n",
    "from keras import backend as k\n",
    "import numpy as np\n",
    "from PIL import Image"
   ]
  },
  {
   "cell_type": "code",
   "execution_count": 3,
   "metadata": {
    "ExecuteTime": {
     "end_time": "2020-07-11T07:05:27.759271Z",
     "start_time": "2020-07-11T07:05:13.686581Z"
    }
   },
   "outputs": [
    {
     "name": "stdout",
     "output_type": "stream",
     "text": [
      "Model: \"encoder_tput\"\n",
      "_________________________________________________________________\n",
      "Layer (type)                 Output Shape              Param #   \n",
      "=================================================================\n",
      "encoder_nput (InputLayer)    (None, 28, 28, 1)         0         \n",
      "_________________________________________________________________\n",
      "conv2d_3 (Conv2D)            (None, 28, 28, 32)        320       \n",
      "_________________________________________________________________\n",
      "conv2d_4 (Conv2D)            (None, 28, 28, 64)        18496     \n",
      "_________________________________________________________________\n",
      "flatten_2 (Flatten)          (None, 50176)             0         \n",
      "_________________________________________________________________\n",
      "latent_nput (Dense)          (None, 64)                3211328   \n",
      "=================================================================\n",
      "Total params: 3,230,144\n",
      "Trainable params: 3,230,144\n",
      "Non-trainable params: 0\n",
      "_________________________________________________________________\n",
      "Model: \"decoder\"\n",
      "_________________________________________________________________\n",
      "Layer (type)                 Output Shape              Param #   \n",
      "=================================================================\n",
      "decoderi_put (InputLayer)    (None, 64)                0         \n",
      "_________________________________________________________________\n",
      "dense_2 (Dense)              (None, 784)               50960     \n",
      "_________________________________________________________________\n",
      "reshape_2 (Reshape)          (None, 28, 28, 1)         0         \n",
      "_________________________________________________________________\n",
      "conv2d_transpose_3 (Conv2DTr (None, 56, 56, 64)        640       \n",
      "_________________________________________________________________\n",
      "conv2d_transpose_4 (Conv2DTr (None, 112, 112, 32)      18464     \n",
      "_________________________________________________________________\n",
      "decodr_output (Conv2DTranspo (None, 112, 112, 1)       289       \n",
      "=================================================================\n",
      "Total params: 70,353\n",
      "Trainable params: 70,353\n",
      "Non-trainable params: 0\n",
      "_________________________________________________________________\n",
      "Model: \"autoencoder\"\n",
      "_________________________________________________________________\n",
      "Layer (type)                 Output Shape              Param #   \n",
      "=================================================================\n",
      "encoder_nput (InputLayer)    (None, 28, 28, 1)         0         \n",
      "_________________________________________________________________\n",
      "encoder_tput (Model)         (None, 64)                3230144   \n",
      "_________________________________________________________________\n",
      "decoder (Model)              (None, 112, 112, 1)       70353     \n",
      "=================================================================\n",
      "Total params: 3,300,497\n",
      "Trainable params: 3,300,497\n",
      "Non-trainable params: 0\n",
      "_________________________________________________________________\n"
     ]
    },
    {
     "ename": "ValueError",
     "evalue": "Error when checking target: expected decoder to have shape (112, 112, 1) but got array with shape (28, 28, 1)",
     "output_type": "error",
     "traceback": [
      "\u001b[1;31m---------------------------------------------------------------------------\u001b[0m",
      "\u001b[1;31mValueError\u001b[0m                                Traceback (most recent call last)",
      "\u001b[1;32m<ipython-input-3-0594a5152ac6>\u001b[0m in \u001b[0;36m<module>\u001b[1;34m\u001b[0m\n\u001b[0;32m     64\u001b[0m \u001b[0mautoencoder\u001b[0m\u001b[1;33m.\u001b[0m\u001b[0mcompile\u001b[0m\u001b[1;33m(\u001b[0m\u001b[0mloss\u001b[0m\u001b[1;33m=\u001b[0m\u001b[1;34m'categorical_crossentropy'\u001b[0m\u001b[1;33m,\u001b[0m\u001b[0moptimizer\u001b[0m\u001b[1;33m=\u001b[0m\u001b[1;34m'adam'\u001b[0m\u001b[1;33m)\u001b[0m\u001b[1;33m\u001b[0m\u001b[1;33m\u001b[0m\u001b[0m\n\u001b[0;32m     65\u001b[0m \u001b[1;33m\u001b[0m\u001b[0m\n\u001b[1;32m---> 66\u001b[1;33m \u001b[0mautoencoder\u001b[0m\u001b[1;33m.\u001b[0m\u001b[0mfit\u001b[0m\u001b[1;33m(\u001b[0m\u001b[0mx_train\u001b[0m\u001b[1;33m,\u001b[0m\u001b[0mx_train\u001b[0m\u001b[1;33m,\u001b[0m\u001b[0mepochs\u001b[0m\u001b[1;33m=\u001b[0m\u001b[1;36m10\u001b[0m\u001b[1;33m,\u001b[0m\u001b[0mbatch_size\u001b[0m\u001b[1;33m=\u001b[0m\u001b[0mbatch_size\u001b[0m\u001b[1;33m,\u001b[0m\u001b[0mvalidation_data\u001b[0m\u001b[1;33m=\u001b[0m\u001b[1;33m(\u001b[0m\u001b[0mx_test_noisy\u001b[0m\u001b[1;33m,\u001b[0m\u001b[0mx_test\u001b[0m\u001b[1;33m)\u001b[0m\u001b[1;33m)\u001b[0m\u001b[1;33m\u001b[0m\u001b[1;33m\u001b[0m\u001b[0m\n\u001b[0m\u001b[0;32m     67\u001b[0m \u001b[1;33m\u001b[0m\u001b[0m\n\u001b[0;32m     68\u001b[0m \u001b[1;33m\u001b[0m\u001b[0m\n",
      "\u001b[1;32m~\\.conda\\envs\\tf\\lib\\site-packages\\keras\\engine\\training.py\u001b[0m in \u001b[0;36mfit\u001b[1;34m(self, x, y, batch_size, epochs, verbose, callbacks, validation_split, validation_data, shuffle, class_weight, sample_weight, initial_epoch, steps_per_epoch, validation_steps, validation_freq, max_queue_size, workers, use_multiprocessing, **kwargs)\u001b[0m\n\u001b[0;32m   1152\u001b[0m             \u001b[0msample_weight\u001b[0m\u001b[1;33m=\u001b[0m\u001b[0msample_weight\u001b[0m\u001b[1;33m,\u001b[0m\u001b[1;33m\u001b[0m\u001b[1;33m\u001b[0m\u001b[0m\n\u001b[0;32m   1153\u001b[0m             \u001b[0mclass_weight\u001b[0m\u001b[1;33m=\u001b[0m\u001b[0mclass_weight\u001b[0m\u001b[1;33m,\u001b[0m\u001b[1;33m\u001b[0m\u001b[1;33m\u001b[0m\u001b[0m\n\u001b[1;32m-> 1154\u001b[1;33m             batch_size=batch_size)\n\u001b[0m\u001b[0;32m   1155\u001b[0m \u001b[1;33m\u001b[0m\u001b[0m\n\u001b[0;32m   1156\u001b[0m         \u001b[1;31m# Prepare validation data.\u001b[0m\u001b[1;33m\u001b[0m\u001b[1;33m\u001b[0m\u001b[1;33m\u001b[0m\u001b[0m\n",
      "\u001b[1;32m~\\.conda\\envs\\tf\\lib\\site-packages\\keras\\engine\\training.py\u001b[0m in \u001b[0;36m_standardize_user_data\u001b[1;34m(self, x, y, sample_weight, class_weight, check_array_lengths, batch_size)\u001b[0m\n\u001b[0;32m    619\u001b[0m                 \u001b[0mfeed_output_shapes\u001b[0m\u001b[1;33m,\u001b[0m\u001b[1;33m\u001b[0m\u001b[1;33m\u001b[0m\u001b[0m\n\u001b[0;32m    620\u001b[0m                 \u001b[0mcheck_batch_axis\u001b[0m\u001b[1;33m=\u001b[0m\u001b[1;32mFalse\u001b[0m\u001b[1;33m,\u001b[0m  \u001b[1;31m# Don't enforce the batch size.\u001b[0m\u001b[1;33m\u001b[0m\u001b[1;33m\u001b[0m\u001b[0m\n\u001b[1;32m--> 621\u001b[1;33m                 exception_prefix='target')\n\u001b[0m\u001b[0;32m    622\u001b[0m \u001b[1;33m\u001b[0m\u001b[0m\n\u001b[0;32m    623\u001b[0m             \u001b[1;31m# Generate sample-wise weight values given the `sample_weight` and\u001b[0m\u001b[1;33m\u001b[0m\u001b[1;33m\u001b[0m\u001b[1;33m\u001b[0m\u001b[0m\n",
      "\u001b[1;32m~\\.conda\\envs\\tf\\lib\\site-packages\\keras\\engine\\training_utils.py\u001b[0m in \u001b[0;36mstandardize_input_data\u001b[1;34m(data, names, shapes, check_batch_axis, exception_prefix)\u001b[0m\n\u001b[0;32m    143\u001b[0m                             \u001b[1;34m': expected '\u001b[0m \u001b[1;33m+\u001b[0m \u001b[0mnames\u001b[0m\u001b[1;33m[\u001b[0m\u001b[0mi\u001b[0m\u001b[1;33m]\u001b[0m \u001b[1;33m+\u001b[0m \u001b[1;34m' to have shape '\u001b[0m \u001b[1;33m+\u001b[0m\u001b[1;33m\u001b[0m\u001b[1;33m\u001b[0m\u001b[0m\n\u001b[0;32m    144\u001b[0m                             \u001b[0mstr\u001b[0m\u001b[1;33m(\u001b[0m\u001b[0mshape\u001b[0m\u001b[1;33m)\u001b[0m \u001b[1;33m+\u001b[0m \u001b[1;34m' but got array with shape '\u001b[0m \u001b[1;33m+\u001b[0m\u001b[1;33m\u001b[0m\u001b[1;33m\u001b[0m\u001b[0m\n\u001b[1;32m--> 145\u001b[1;33m                             str(data_shape))\n\u001b[0m\u001b[0;32m    146\u001b[0m     \u001b[1;32mreturn\u001b[0m \u001b[0mdata\u001b[0m\u001b[1;33m\u001b[0m\u001b[1;33m\u001b[0m\u001b[0m\n\u001b[0;32m    147\u001b[0m \u001b[1;33m\u001b[0m\u001b[0m\n",
      "\u001b[1;31mValueError\u001b[0m: Error when checking target: expected decoder to have shape (112, 112, 1) but got array with shape (28, 28, 1)"
     ]
    }
   ],
   "source": [
    "(x_train,_),(x_test,_)=mnist.load_data()\n",
    "\n",
    "image_size=x_train.shape[1]\n",
    "\n",
    "input_size=(image_size,image_size,1)\n",
    "\n",
    "x_train=np.reshape(x_train,[-1,image_size,image_size,1])\n",
    "x_train=x_train.astype('float32')/255\n",
    "\n",
    "x_test=np.reshape(x_test,[-1,image_size,image_size,1])\n",
    "x_test=x_test.astype('float32')/255\n",
    "\n",
    "batch_size=32\n",
    "kernels=3\n",
    "latent_dim=64\n",
    "layer_filters=[32,64]\n",
    "\n",
    "noise=np.random.normal(loc=.5,scale=.5,size=x_train.shape)\n",
    "x_train_noisy=x_train+noise\n",
    "\n",
    "noise=np.random.normal(loc=.5,scale=.5,size=x_test.shape)\n",
    "x_test_noisy=x_test+noise\n",
    "\n",
    "inputs=Input(shape=input_size,name='encoder_nput')\n",
    "x=inputs\n",
    "\n",
    "x_train_noisy=np.clip(x_train_noisy,0.,1.)\n",
    "x_test_noisy=np.clip(x_test_noisy,0.,1.)\n",
    "\n",
    "for filter in layer_filters:\n",
    "    x=Conv2D(kernel_size=kernels,padding='same',activation='relu',filters=filter)(x)\n",
    "    \n",
    "shape=k.int_shape(x_train)\n",
    "x=Flatten()(x)\n",
    "\n",
    "latent=Dense(latent_dim,name='latent_nput')(x)\n",
    "\n",
    "encoder=Model(inputs,latent,name='encoder_tput')\n",
    "encoder.summary()\n",
    "\n",
    "latent_inputs=Input(shape=(latent_dim,),name='decoderi_put')\n",
    "\n",
    "x=Dense(shape[1]*shape[2]*shape[3])(latent_inputs)\n",
    "x=Reshape((shape[1],shape[2],shape[3]))(x)\n",
    "\n",
    "\n",
    "for filter in layer_filters[::-1]:\n",
    "    x=Conv2DTranspose(filters=filter,kernel_size=kernels,padding='same',activation='relu',strides=2)(x)\n",
    "    \n",
    "output=Conv2DTranspose(filters=1,kernel_size=kernels,padding='same',activation='softmax',name='decodr_output')(x)\n",
    "\n",
    "\n",
    "\n",
    "decoder=Model(latent_inputs,output,name='decoder')\n",
    "\n",
    "decoder.summary()\n",
    "\n",
    "\n",
    "\n",
    "autoencoder=Model(inputs,decoder(encoder(inputs)),name='autoencoder')\n",
    "\n",
    "autoencoder.summary()\n",
    "\n",
    "autoencoder.compile(loss='categorical_crossentropy',optimizer='adam')\n",
    "\n",
    "autoencoder.fit(x_train,x_train,epochs=10,batch_size=batch_size,validation_data=(x_test_noisy,x_test))\n",
    "\n",
    "\n",
    "x_decoded=autoencoder.predict(x_test_noisy)\n",
    "\n",
    "\n",
    "rows,cols=3,9\n",
    "nums=rows*cols\n",
    "imgs=np.concatenate([x_train_noisy[:nums],x_test_noisy[:nums],x_decoded[:nums]])\n",
    "imgs=np.reshape((rows*3,cols,image_size,image_size))\n",
    "imgs=np.vstack(imgs,rows,axis=1)\n",
    "imgs=np.reshape((rows*3,-1,image_size,image_size))\n",
    "imgs=np.vstack([np.hstack[i] for i in imgs])\n",
    "imgs=(imgs*255).astype('np.unit8')\n",
    "plt.figure()\n",
    "plt.axis('off')\n",
    "plt.title('original images   1st row',\n",
    "         'corrupted images 2nd row',\n",
    "         'decoded images 3rd row')\n",
    "plt.imshow(imgs,cmap='grey',interpolation='none')\n",
    "\n",
    "Image.fromarray(imgs).save('corrupted_decoded.png')\n",
    "plt.show()"
   ]
  },
  {
   "cell_type": "code",
   "execution_count": 15,
   "metadata": {
    "ExecuteTime": {
     "end_time": "2020-07-10T15:18:51.629655Z",
     "start_time": "2020-07-10T15:18:51.097872Z"
    }
   },
   "outputs": [
    {
     "data": {
      "text/plain": [
       "(10000, 28, 28, 1)"
      ]
     },
     "execution_count": 15,
     "metadata": {},
     "output_type": "execute_result"
    }
   ],
   "source": [
    "x_test_noisy.shape"
   ]
  },
  {
   "cell_type": "code",
   "execution_count": 17,
   "metadata": {
    "ExecuteTime": {
     "end_time": "2020-07-10T15:20:09.534693Z",
     "start_time": "2020-07-10T15:20:09.525678Z"
    }
   },
   "outputs": [
    {
     "data": {
      "text/plain": [
       "(60000, 28, 28, 1)"
      ]
     },
     "execution_count": 17,
     "metadata": {},
     "output_type": "execute_result"
    }
   ],
   "source": [
    "x_train.shape"
   ]
  },
  {
   "cell_type": "code",
   "execution_count": null,
   "metadata": {},
   "outputs": [],
   "source": []
  }
 ],
 "metadata": {
  "kernelspec": {
   "display_name": "Python 3",
   "language": "python",
   "name": "python3"
  },
  "language_info": {
   "codemirror_mode": {
    "name": "ipython",
    "version": 3
   },
   "file_extension": ".py",
   "mimetype": "text/x-python",
   "name": "python",
   "nbconvert_exporter": "python",
   "pygments_lexer": "ipython3",
   "version": "3.7.7"
  },
  "varInspector": {
   "cols": {
    "lenName": 16,
    "lenType": 16,
    "lenVar": 40
   },
   "kernels_config": {
    "python": {
     "delete_cmd_postfix": "",
     "delete_cmd_prefix": "del ",
     "library": "var_list.py",
     "varRefreshCmd": "print(var_dic_list())"
    },
    "r": {
     "delete_cmd_postfix": ") ",
     "delete_cmd_prefix": "rm(",
     "library": "var_list.r",
     "varRefreshCmd": "cat(var_dic_list()) "
    }
   },
   "types_to_exclude": [
    "module",
    "function",
    "builtin_function_or_method",
    "instance",
    "_Feature"
   ],
   "window_display": false
  }
 },
 "nbformat": 4,
 "nbformat_minor": 4
}
